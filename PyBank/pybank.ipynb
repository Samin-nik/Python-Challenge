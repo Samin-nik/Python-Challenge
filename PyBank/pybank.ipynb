{
 "cells": [
  {
   "cell_type": "code",
   "execution_count": 1,
   "metadata": {},
   "outputs": [
    {
     "name": "stdout",
     "output_type": "stream",
     "text": [
      "Financial Analysis\n",
      "----------------------------\n",
      "Total Months: 86\n",
      "Total: $22564198\n",
      "Average Change:  -8311.11\n",
      "Greatest Increase in Profits: Aug-16 ($1862002)\n",
      "Greatest Decrease in Profits: Feb-14 ($-1825558)\n"
     ]
    }
   ],
   "source": [
    "#access and import CSV\n",
    "\n",
    "import os\n",
    "import csv\n",
    "\n",
    "# Specify the correct file path based on the given directory structure\n",
    "desktop_path = os.path.expanduser(\"~/Desktop\")\n",
    "module_path = os.path.join(desktop_path, \"module-03-starter-code\")\n",
    "pybank_path = os.path.join(module_path, \"pybank\")\n",
    "pybank_csv = os.path.join(pybank_path, \"Resources\", \"budget_data.csv\")\n",
    "\n",
    "# Open and read the CSV file\n",
    "\n",
    "with open(pybank_csv, 'r') as csv_file:\n",
    "    csv_reader = csv.reader(csv_file, delimiter=\",\")\n",
    "        \n",
    "    total_months = 0\n",
    "    total_profit = 0\n",
    "    greatest_increase = -99999999\n",
    "    greatest_decrease = 999999999\n",
    "    first_row = True\n",
    "    total_change = 0\n",
    "    prev_profit=0\n",
    "    current_change = 0 \n",
    "    greatest_decrease_date=\"\"\n",
    "    greatest_increase_date = \"\"\n",
    "    \n",
    "    next(csv_reader)\n",
    "    for row in csv_reader:\n",
    "        #skip the header\n",
    "        total_months +=1\n",
    "        current_profit =int(row[1])\n",
    "        total_profit += current_profit\n",
    "        \n",
    "        #to do: skip change for 1st rows\n",
    "        if first_row:\n",
    "            first_row = False\n",
    "        else: \n",
    "            current_change =current_profit - prev_profit \n",
    "            total_change+=current_change\n",
    "            \n",
    "            if current_change > greatest_increase:\n",
    "                greatest_increase = current_change\n",
    "                greatest_increase_date = row[0]\n",
    "            if  current_change < greatest_decrease:\n",
    "                greatest_decrease = current_change\n",
    "                greatest_decrease_date = row[0]  \n",
    "                \n",
    "        #prepare for next row\n",
    "        prev_profit= current_profit\n",
    "        \n",
    "\n",
    "        #average of changes\n",
    "    average_change = (total_change/ (total_months-1))\n",
    "    \n",
    "        \n",
    "print (\"Financial Analysis\")\n",
    "print ('----------------------------')\n",
    "print (f\"Total Months: {total_months}\")\n",
    "print (f\"Total: ${total_profit}\")\n",
    "print (f\"Average Change:  {round(average_change,2)}\")\n",
    "print (f\"Greatest Increase in Profits: {greatest_increase_date} (${greatest_increase})\")\n",
    "print (f\"Greatest Decrease in Profits: {greatest_decrease_date} (${greatest_decrease})\")\n",
    "    \n"
   ]
  }
 ],
 "metadata": {
  "kernelspec": {
   "display_name": "Python 3",
   "language": "python",
   "name": "python3"
  },
  "language_info": {
   "codemirror_mode": {
    "name": "ipython",
    "version": 3
   },
   "file_extension": ".py",
   "mimetype": "text/x-python",
   "name": "python",
   "nbconvert_exporter": "python",
   "pygments_lexer": "ipython3",
   "version": "3.10.8"
  },
  "orig_nbformat": 4
 },
 "nbformat": 4,
 "nbformat_minor": 2
}
