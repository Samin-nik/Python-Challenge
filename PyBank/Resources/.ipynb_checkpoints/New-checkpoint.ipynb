{
 "cells": [
  {
   "cell_type": "code",
   "execution_count": 54,
   "id": "199e4680",
   "metadata": {
    "scrolled": false
   },
   "outputs": [
    {
     "name": "stdout",
     "output_type": "stream",
     "text": [
      "Average Change: 262374.3953488372\n"
     ]
    }
   ],
   "source": [
    "#access and import CSV\n",
    "\n",
    "import os\n",
    "import csv\n",
    "\n",
    "# Specify the correct file path based on the given directory structure\n",
    "desktop_path = os.path.expanduser(\"~/Desktop\")\n",
    "module_path = os.path.join(desktop_path, \"module-03-starter-code\")\n",
    "pybank_path = os.path.join(module_path, \"pybank\")\n",
    "pybank_csv = os.path.join(pybank_path, \"Resources\", \"budget_data.csv\")\n",
    "\n",
    "# Open and read the CSV file\n",
    "\n",
    "with open(pybank_csv, 'r') as csv_file:\n",
    "    csv_reader = csv.reader(csv_file, delimiter=\",\")\n",
    "        \n",
    "    total_months = 0\n",
    "    total_revenue = 0\n",
    "    \n",
    "    for row in csv_reader:\n",
    "        #skip the header\n",
    "        if not row[0].startswith(\"Date\"):\n",
    "            total_months +=1\n",
    "            total_revenue += int(row[1])\n",
    "            average_change = (total_revenue) /( total_months)\n",
    "            #greatest_profit = max (int(row[1]))\n",
    "            #greatest_profit = min (int(row[1]))\n",
    "            \n",
    "            \n",
    "# print (\"Financial Analysis\")\n",
    "# print ('----------------------------')\n",
    "# print (f\"Total Months: {total_months}\")\n",
    "#print (f\"Total: ${total_revenue}\")\n",
    "print (f\"Average Change: {average_change}\")\n",
    "#print (f\"Greatest Increase in Profits: {row[0]}{greatest_profit}\")\n",
    "#print (f\" Greatest Decrease in Profits: {row[0]} {lowest_profit}\")\n",
    "    \n",
    "\n",
    "\n",
    "    \n",
    "    \n",
    "    \n",
    "\n"
   ]
  },
  {
   "cell_type": "code",
   "execution_count": null,
   "id": "85008bfa",
   "metadata": {},
   "outputs": [],
   "source": []
  }
 ],
 "metadata": {
  "kernelspec": {
   "display_name": "Python 3 (ipykernel)",
   "language": "python",
   "name": "python3"
  },
  "language_info": {
   "codemirror_mode": {
    "name": "ipython",
    "version": 3
   },
   "file_extension": ".py",
   "mimetype": "text/x-python",
   "name": "python",
   "nbconvert_exporter": "python",
   "pygments_lexer": "ipython3",
   "version": "3.11.4"
  }
 },
 "nbformat": 4,
 "nbformat_minor": 5
}
