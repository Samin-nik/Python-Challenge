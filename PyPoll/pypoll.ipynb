{
 "cells": [
  {
   "cell_type": "code",
   "execution_count": 31,
   "metadata": {},
   "outputs": [
    {
     "name": "stdout",
     "output_type": "stream",
     "text": [
      "Election Results\n",
      "-----------------------------\n",
      "Total Votes: 369711\n",
      "-----------------------------\n",
      "Charles Casper Stockham: 23.049% (85213)\n",
      "Diana DeGette: 73.812% (272892)\n",
      "Raymon Anthony Doane: 3.139% (11606)\n",
      "-----------------------------\n",
      "Winner: Diana DeGette\n",
      "-----------------------------\n"
     ]
    }
   ],
   "source": [
    "#access and import CSV\n",
    "\n",
    "import os\n",
    "import csv\n",
    "\n",
    "# Specify the correct file path based on the given directory structure\n",
    "desktop_path = os.path.expanduser(\"~/Desktop\")\n",
    "module_path = os.path.join(desktop_path, \"module-03-starter-code\")\n",
    "pypoll_path = os.path.join(module_path, \"pypoll\")\n",
    "pypoll_csv = os.path.join(pypoll_path, \"Resources\", \"election_data.csv\")\n",
    "\n",
    "# Open and read the CSV file\n",
    "\n",
    "with open(pypoll_csv, 'r') as csv_file:\n",
    "    csv_reader = csv.reader(csv_file, delimiter=\",\")\n",
    "\n",
    "    total_votes= 0\n",
    "    candidate_votes={} #why is this a list and next one a dictionary?\n",
    "    candidate_names= []\n",
    "    \n",
    "    next(csv_reader) #skip header\n",
    "    for row in csv_reader:\n",
    "        \n",
    "        total_votes +=1\n",
    "        candidate_name = row[2]  # whu is this not on top?\n",
    "        if candidate_name not in candidate_names:\n",
    "            candidate_names.append(candidate_name)\n",
    "            candidate_votes[candidate_name]=1 \n",
    "        else:\n",
    "            \n",
    "            candidate_votes[candidate_name] +=1 #why\n",
    "print (\"Election Results\")\n",
    "print(\"-----------------------------\")\n",
    "print(f\"Total Votes: {total_votes}\")\n",
    "print(\"-----------------------------\")   \n",
    "  \n",
    "for candidate_name in candidate_names:\n",
    "    votes= candidate_votes[candidate_name] #why?\n",
    "    vote_percentage= (votes/total_votes)*100\n",
    "    formatted_percentage = \"{:.3f}\".format(vote_percentage)  # Format to three decimal places\n",
    "    print(f\"{candidate_name}: {formatted_percentage}% ({votes})\")\n",
    "\n",
    "winner = max(candidate_votes, key=candidate_votes.get)\n",
    "\n",
    "\n",
    "\n",
    "\n",
    "\n",
    "print(\"-----------------------------\")\n",
    "print(F\"Winner: {winner}\")\n",
    "print(\"-----------------------------\")"
   ]
  }
 ],
 "metadata": {
  "kernelspec": {
   "display_name": "Python 3",
   "language": "python",
   "name": "python3"
  },
  "language_info": {
   "codemirror_mode": {
    "name": "ipython",
    "version": 3
   },
   "file_extension": ".py",
   "mimetype": "text/x-python",
   "name": "python",
   "nbconvert_exporter": "python",
   "pygments_lexer": "ipython3",
   "version": "3.10.8"
  },
  "orig_nbformat": 4
 },
 "nbformat": 4,
 "nbformat_minor": 2
}
